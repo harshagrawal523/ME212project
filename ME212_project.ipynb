{
 "cells": [
  {
   "cell_type": "markdown",
   "id": "4186a128",
   "metadata": {},
   "source": [
    "# ME212 Solid Mechanics Project\n",
    "## Plotting of SFD(Shear Force Diagram) and BMD(Bending Moment Diagram)\n",
    "\n",
    "\n",
    "[![Open In Colab](https://colab.research.google.com/assets/colab-badge.svg)](https://colab.research.google.com/drive/13TJDQo5wzyYKZOGz5nxuzMqObpIHvbZy?usp=sharing)\n",
    "\n",
    "### SFD and BMD definition\n",
    "It is clear from foregone discussions that at a section taken on a loaded beam, two internal forces can be visualized, namely, the bending moment and the shear force. It is also understood that the magnitude of bending moment and shear force varies at different cross sections over the beam. The diagram depicting variation of bending moment and shear force over the beam is called bending moment diagram [BMD] and shear force diagram [SFD]. Such graphic representation is useful in determining where the maximum shearing force and bending moment occur, and we need this information to calculate the maximum shear stress and the maximum bending stress in a beam. The moment diagram can also be used to predict the qualitative shape of the deflected\n",
    "axis of a beam.\n",
    "\n",
    "\n",
    "### Importing Libraries"
   ]
  },
  {
   "cell_type": "code",
   "execution_count": 10,
   "id": "b688eb3c",
   "metadata": {},
   "outputs": [],
   "source": [
    "import numpy as np\n",
    "import matplotlib.pyplot as plt"
   ]
  },
  {
   "cell_type": "markdown",
   "id": "3152cd02",
   "metadata": {},
   "source": [
    "### Taking Inputs from the user"
   ]
  },
  {
   "cell_type": "code",
   "execution_count": 11,
   "id": "20bb3bf1",
   "metadata": {},
   "outputs": [
    {
     "name": "stdout",
     "output_type": "stream",
     "text": [
      "Enter the value of the load acting on the beam in N(in newton) : 20\n",
      "Enter the length of the beam(in m) : 4\n",
      "Enter the distance at which load is acting(in m) : 2\n"
     ]
    }
   ],
   "source": [
    "P=int(input(\"Enter the value of the load acting on the beam in N(in newton) : \"))\n",
    "L=int(input(\"Enter the length of the beam(in m) : \"))\n",
    "a=int(input(\"Enter the distance at which load is acting(in m) : \"))"
   ]
  },
  {
   "cell_type": "markdown",
   "id": "241103a2",
   "metadata": {},
   "source": [
    "### Calculating the values of R1 and R2"
   ]
  },
  {
   "cell_type": "code",
   "execution_count": 12,
   "id": "80196e20",
   "metadata": {},
   "outputs": [
    {
     "name": "stdout",
     "output_type": "stream",
     "text": [
      "R1 = 10.0 N\n",
      "R2 = 10.0 N\n"
     ]
    }
   ],
   "source": [
    "R1=(P*(L-a))/L\n",
    "R2=(P*a)/L\n",
    "print(\"R1 =\",R1,\"N\")\n",
    "print(\"R2 =\",R2,\"N\")"
   ]
  },
  {
   "cell_type": "markdown",
   "id": "e2ca0e78",
   "metadata": {},
   "source": [
    "## Plotting of Graph"
   ]
  },
  {
   "cell_type": "code",
   "execution_count": 13,
   "id": "af9a531d",
   "metadata": {},
   "outputs": [],
   "source": [
    "l=np.linspace(0,L,1000)\n",
    "\n",
    "X=[]\n",
    "SF=[]\n",
    "BM=[]"
   ]
  },
  {
   "cell_type": "markdown",
   "id": "bbd71466",
   "metadata": {},
   "source": [
    "### Specifying conditions to plot Graph"
   ]
  },
  {
   "cell_type": "code",
   "execution_count": 14,
   "id": "619d1fe1",
   "metadata": {},
   "outputs": [],
   "source": [
    "for x in l:\n",
    "  if x <= a:\n",
    "    m = R1*x\n",
    "    sf = R1\n",
    "  elif x > a:\n",
    "    m=(R1*x)-(P*(x-a))\n",
    "    sf = R1-P\n",
    "  BM.append(m)\n",
    "  X.append(x)\n",
    "  SF.append(sf)"
   ]
  },
  {
   "cell_type": "markdown",
   "id": "fd9c70c2",
   "metadata": {},
   "source": [
    "## Plotting Sheer Force Diagram(SFD)"
   ]
  },
  {
   "cell_type": "code",
   "execution_count": 15,
   "id": "555f12d6",
   "metadata": {},
   "outputs": [
    {
     "data": {
      "image/png": "[encoded data removed]",
      "text/plain": [
       "<Figure size 432x288 with 1 Axes>"
      ]
     },
     "metadata": {
      "needs_background": "light"
     },
     "output_type": "display_data"
    }
   ],
   "source": [
    "plt.subplot(2,1,2)\n",
    "plt.plot(X,SF,color='b')\n",
    "plt.plot([0,L],[0,0],color='r')\n",
    "plt.plot([0,0],[0,R1],[L,L],[0,-R2], color='r')\n",
    "plt.title(\"Shear Force Diagram\")\n",
    "plt.xlabel(\"Length in m ->\")\n",
    "plt.ylabel(\"Shear Force in N\")\n",
    "plt.show()"
   ]
  },
  {
   "cell_type": "markdown",
   "id": "6e66a61a",
   "metadata": {},
   "source": [
    "## Plotting Bending Moment Diagram(BMD)"
   ]
  },
  {
   "cell_type": "code",
   "execution_count": 16,
   "id": "df1601c4",
   "metadata": {},
   "outputs": [
    {
     "data": {
      "image/png": "[encoded data removed]",
      "text/plain": [
       "<Figure size 432x288 with 1 Axes>"
      ]
     },
     "metadata": {
      "needs_background": "light"
     },
     "output_type": "display_data"
    }
   ],
   "source": [
    "plt.subplot(2,1,1)\n",
    "plt.plot(X,BM,color='b')\n",
    "plt.plot([0,L],[0,0],color='r')\n",
    "plt.title(\"BMD(Bending Moment Diagram)\")\n",
    "plt.xlabel(\"Length in m ->\")\n",
    "plt.ylabel(\"Bending Moment in Nm\")\n",
    "plt.show()"
   ]
  },
  {
   "cell_type": "markdown",
   "id": "a05834d8",
   "metadata": {},
   "source": [
    "<hr>"
   ]
  },
  {
   "cell_type": "markdown",
   "id": "7dba7f52",
   "metadata": {},
   "source": [
    "#### HARSH AGRAWAL\n",
    "#### 200103121\n",
    "\n",
    "[GitHub Repo of this project](https://github.com/harshagrawal523/ME212project)"
   ]
  }
 ],
 "metadata": {
  "kernelspec": {
   "display_name": "Python 3",
   "language": "python",
   "name": "python3"
  },
  "language_info": {
   "codemirror_mode": {
    "name": "ipython",
    "version": 3
   },
   "file_extension": ".py",
   "mimetype": "text/x-python",
   "name": "python",
   "nbconvert_exporter": "python",
   "pygments_lexer": "ipython3",
   "version": "3.8.8"
  }
 },
 "nbformat": 4,
 "nbformat_minor": 5
}
